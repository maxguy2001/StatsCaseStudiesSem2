{
 "cells": [
  {
   "cell_type": "code",
   "execution_count": 1,
   "metadata": {},
   "outputs": [],
   "source": [
    "#import libraries\n",
    "import functions as func\n",
    "from joblib import Parallel, delayed\n",
    "import numpy as np\n",
    "import pandas as pd\n",
    "\n",
    "#load preprocessed data\n",
    "df = func.getUseableHP2Data()"
   ]
  },
  {
   "cell_type": "code",
   "execution_count": null,
   "metadata": {},
   "outputs": [],
   "source": [
    "# TODO: fix na situation for houseprices 2\n",
    "df = pd.read_csv(\"houseprices2.csv\")\n",
    "\n",
    "pool = df[\"PoolQC\"].tolist()\n",
    "fence = df[\"Fence\"].tolist()\n",
    "misc = df[\"MiscFeature\"].tolist()\n",
    "\n",
    "pool2 = []\n",
    "fence2 = []\n",
    "misc2 = []\n",
    "for i in range(len(df)):\n",
    "    try:\n",
    "        if np.isnan(pool[i]):\n",
    "            pool2.append(\"NotApplicable\")\n",
    "        else:\n",
    "            pool2.append(pool[i])\n",
    "    except:\n",
    "        pool2.append(pool[i])\n",
    "\n",
    "    try:\n",
    "        if np.isnan(fence[i]):\n",
    "            fence2.append(\"NotApplicable\")\n",
    "        else:\n",
    "            fence2.append(fence[i])\n",
    "    except:\n",
    "        fence2.append(fence[i])\n",
    "\n",
    "    try:\n",
    "        if np.isnan(misc[i]):\n",
    "            misc2.append(\"NotApplicable\")\n",
    "        else:\n",
    "            misc2.append(misc[i])\n",
    "    except:\n",
    "        misc2.append(misc[i])\n",
    "\n",
    "\n",
    "df[\"PoolQC\"] = pool2\n",
    "df[\"Fence\"] = fence2\n",
    "df[\"MiscFeature\"] = misc2\n",
    "\n",
    "print(len(df))\n",
    "df.dropna(inplace=True)\n",
    "print(len(df))"
   ]
  },
  {
   "cell_type": "code",
   "execution_count": null,
   "metadata": {},
   "outputs": [],
   "source": []
  },
  {
   "attachments": {},
   "cell_type": "markdown",
   "metadata": {},
   "source": [
    "Baseline model"
   ]
  },
  {
   "cell_type": "code",
   "execution_count": null,
   "metadata": {},
   "outputs": [],
   "source": [
    "#fit and score full baseline model\n",
    "X = df.copy(deep=True)\n",
    "X.drop([\"SalePrice\"], axis=1, inplace=True)\n",
    "y = df[\"SalePrice\"]\n",
    "base_mae = func.trainLinearRegression(X, y)\n",
    "print(base_mae)"
   ]
  },
  {
   "attachments": {},
   "cell_type": "markdown",
   "metadata": {},
   "source": [
    "Variable selection model"
   ]
  },
  {
   "cell_type": "code",
   "execution_count": null,
   "metadata": {},
   "outputs": [],
   "source": [
    "#get first new predictor\n",
    "colnames = list(df.columns)\n",
    "colnames.remove(\"SalePrice\")\n",
    "colnames = [[x] for x in colnames]\n",
    "results = Parallel(n_jobs=6)(delayed(func.quickScoreLinearRegression)(i, True) for i in colnames)\n",
    "first_new_colname = colnames[np.argmax(results)]\n",
    "print(f\"Therefore we now add {first_new_colname} as a model feature\")"
   ]
  },
  {
   "cell_type": "code",
   "execution_count": null,
   "metadata": {},
   "outputs": [],
   "source": [
    "#get second new predictor\n",
    "colnames2 = list(df.columns)\n",
    "colnames2.remove(\"SalePrice\")\n",
    "colnames2.remove(first_new_colname)\n",
    "collnames2 = [[x, first_new_colname] for x in colnames2]\n",
    "results = Parallel(n_jobs=6)(delayed(func.quickScoreLinearRegression)(i, True) for i in colnames2)\n",
    "second_new_colname = colnames2[np.argmax(results)]\n",
    "print(f\"Therefore we now add {second_new_colname} as a model feature\")"
   ]
  },
  {
   "cell_type": "code",
   "execution_count": null,
   "metadata": {},
   "outputs": [],
   "source": [
    "#get third and final new predictor\n",
    "colnames3 = list(df.columns)\n",
    "colnames3.remove(\"SalePrice\")\n",
    "colnames3.remove(first_new_colname)\n",
    "colnames3.remove(second_new_colname)\n",
    "colnames3 = [[x, first_new_colname, second_new_colname] for x in colnames3]\n",
    "results = Parallel(n_jobs=6)(delayed(func.quickScoreLinearRegression)(i, True) for i in colnames)\n",
    "third_new_colname = colnames3[np.argmax(results)]\n",
    "print(f\"Finally we add {third_new_colname} as a model feature\")\n",
    "print(f\"This gives our model a MAE of {min(results)}.\")"
   ]
  },
  {
   "attachments": {},
   "cell_type": "markdown",
   "metadata": {},
   "source": [
    "Random forest regressor"
   ]
  },
  {
   "cell_type": "code",
   "execution_count": 2,
   "metadata": {},
   "outputs": [
    {
     "name": "stdout",
     "output_type": "stream",
     "text": [
      "35187.0\n"
     ]
    }
   ],
   "source": [
    "rf_mae = func.quickScoreRandomForest()\n",
    "print(rf_mae)"
   ]
  },
  {
   "cell_type": "code",
   "execution_count": null,
   "metadata": {},
   "outputs": [],
   "source": []
  },
  {
   "cell_type": "code",
   "execution_count": null,
   "metadata": {},
   "outputs": [],
   "source": []
  },
  {
   "cell_type": "code",
   "execution_count": null,
   "metadata": {},
   "outputs": [],
   "source": []
  },
  {
   "cell_type": "code",
   "execution_count": null,
   "metadata": {},
   "outputs": [],
   "source": []
  }
 ],
 "metadata": {
  "kernelspec": {
   "display_name": "base",
   "language": "python",
   "name": "python3"
  },
  "language_info": {
   "codemirror_mode": {
    "name": "ipython",
    "version": 3
   },
   "file_extension": ".py",
   "mimetype": "text/x-python",
   "name": "python",
   "nbconvert_exporter": "python",
   "pygments_lexer": "ipython3",
   "version": "3.8.8"
  },
  "orig_nbformat": 4
 },
 "nbformat": 4,
 "nbformat_minor": 2
}
