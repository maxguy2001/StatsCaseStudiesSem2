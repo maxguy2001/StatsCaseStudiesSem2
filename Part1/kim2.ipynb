{
 "cells": [
  {
   "cell_type": "code",
   "execution_count": null,
   "metadata": {},
   "outputs": [],
   "source": [
    "#kim's notebook\n",
    "\n",
    "import numpy as np\n",
    "import pandas as pd\n",
    "import matplotlib.pyplot as plt\n",
    "\n",
    "df = pd.read_csv(\"houseprices.csv\")\n",
    "\n",
    "\n",
    "oddsales = df[(df['SalePrice'] >= 500000)]\n",
    "print(df[\"LotArea\"].mean())\n",
    "oddsales"
   ]
  },
  {
   "cell_type": "code",
   "execution_count": null,
   "metadata": {},
   "outputs": [],
   "source": [
    "#Plot for House Sales Price, showing the mean of the values\n",
    "plt.plot(df.SalePrice, color = 'g', linestyle = \" \", marker = \".\")\n",
    "plt.axhline(y=np.mean(df.SalePrice), color = 'r', linestyle = '-')\n",
    "plt.show()\n",
    "\n",
    "print(np.mean(df.SalePrice))"
   ]
  },
  {
   "cell_type": "code",
   "execution_count": null,
   "metadata": {},
   "outputs": [],
   "source": [
    "plt.plot(df.SalePrice, color = 'g', linestyle = \" \", marker = \".\")\n",
    "plt.axhline(y=np.mean(df.SalePrice), color = 'r', linestyle = '-')\n",
    "plt.show()"
   ]
  },
  {
   "cell_type": "code",
   "execution_count": null,
   "metadata": {},
   "outputs": [],
   "source": [
    "#Lot area does not show much impact on sale price apart from a few outliers\n",
    "#TODO: investigate large plot areas\n",
    "\n",
    "plt.scatter(df.SalePrice, df.LotArea, color = 'g', marker = \".\")\n",
    "plt.show()\n",
    "\n",
    "\n",
    "oddArea = df[(df['LotArea'] >= 50000)]\n",
    "oddArea"
   ]
  },
  {
   "cell_type": "code",
   "execution_count": null,
   "metadata": {},
   "outputs": [],
   "source": [
    "#Neighbourhood good, shows each house in each neighbourhood are similar\n",
    "plt.scatter(df.SalePrice, df.Neighborhood) \n",
    "plt.show()"
   ]
  },
  {
   "cell_type": "code",
   "execution_count": null,
   "metadata": {},
   "outputs": [],
   "source": [
    "# good plot, same as before\n",
    "#plt.scatter(df.SalePrice, df.BldgType) \n",
    "#TODO: make into boxplot\n",
    "\n",
    "#plt.boxplot(df.BldgType, df.SalePrice)\n",
    "#plt.show() "
   ]
  },
  {
   "cell_type": "code",
   "execution_count": null,
   "metadata": {},
   "outputs": [],
   "source": [
    "#THIS IS WRONG - HELP\n",
    "#Maybe not a big detering fctor, as many are still around the same price no matter the price\n",
    "plt.scatter(df.OverallCond, df.SalePrice)\n",
    "plt.show() \n",
    "\n",
    "\n",
    "\n",
    "if df.OverallCond = 1:\n",
    "    c1 = "
   ]
  }
 ],
 "metadata": {
  "language_info": {
   "name": "python"
  },
  "orig_nbformat": 4
 },
 "nbformat": 4,
 "nbformat_minor": 2
}
