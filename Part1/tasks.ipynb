{
 "cells": [
  {
   "cell_type": "code",
   "execution_count": 1,
   "metadata": {},
   "outputs": [],
   "source": [
    "#import libraries\n",
    "import functions as func\n",
    "import pandas as pd\n",
    "import matplotlib.pyplot as plt"
   ]
  },
  {
   "cell_type": "code",
   "execution_count": 5,
   "metadata": {},
   "outputs": [
    {
     "name": "stdout",
     "output_type": "stream",
     "text": [
      "1460\n",
      "1378\n"
     ]
    }
   ],
   "source": [
    "#read data\n",
    "df = pd.read_csv(\"houseprices.csv\")\n",
    "\n",
    "#TODO(kim): check house price outiers before converting to binary (make plot)\n",
    "\n",
    "#get data ready to work with\n",
    "df = func.tidyData(df)"
   ]
  },
  {
   "cell_type": "code",
   "execution_count": 7,
   "metadata": {},
   "outputs": [],
   "source": [
    "#TODO(max): make logistic regression model\n",
    "#TODO(max): assess logistic regression model\n",
    "#TODO(kim): decide/investigate our 5 variables\n",
    "#TODO(katina): make & assess naive bayes model"
   ]
  },
  {
   "cell_type": "code",
   "execution_count": null,
   "metadata": {},
   "outputs": [],
   "source": []
  }
 ],
 "metadata": {
  "kernelspec": {
   "display_name": "base",
   "language": "python",
   "name": "python3"
  },
  "language_info": {
   "codemirror_mode": {
    "name": "ipython",
    "version": 3
   },
   "file_extension": ".py",
   "mimetype": "text/x-python",
   "name": "python",
   "nbconvert_exporter": "python",
   "pygments_lexer": "ipython3",
   "version": "3.8.8"
  },
  "orig_nbformat": 4,
  "vscode": {
   "interpreter": {
    "hash": "6771b146f1b82fb02de5590ee70692a11d0849fffb790087fa62825bdf33ab0d"
   }
  }
 },
 "nbformat": 4,
 "nbformat_minor": 2
}
